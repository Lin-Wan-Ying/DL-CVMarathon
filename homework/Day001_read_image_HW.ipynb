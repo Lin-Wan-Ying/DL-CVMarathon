{
 "cells": [
  {
   "cell_type": "markdown",
   "metadata": {},
   "source": [
    "# 作業\n",
    "\n",
    "思考一下我們前面有提到圖片是矩陣，但維度可能會不一樣\n",
    "例如灰階圖只有兩個維度，RGB 彩圖則有 3 個維度\n",
    "\n",
    "假如今天我們把 RGB 3 個維度拆開來看會有甚麼不同的效果呢？\n",
    "\n",
    "\n",
    "參考這次的進度，安裝好 OpenCV 之後分別顯示同一張圖片但個別是彩色 RGB 格式跟灰階 Grayscale 格式的圖\n",
    "\n",
    "可以選擇電腦中任意圖片（建議選擇 .jpg, .jpeg, .png)\n",
    "\n",
    "或是電腦視覺領域中知名的 Lena 圖皆可\n",
    "\n",
    "\n",
    "\n",
    "請點擊下方檢視範例參考Day001_read_image_Sample.ipynb，作業請提交Day001_read_image_HW.ipynb"
   ]
  },
  {
   "cell_type": "code",
   "execution_count": 1,
   "metadata": {},
   "outputs": [
    {
     "ename": "SyntaxError",
     "evalue": "'break' outside loop (<ipython-input-1-54c315b2eec1>, line 17)",
     "output_type": "error",
     "traceback": [
      "\u001b[1;36m  File \u001b[1;32m\"<ipython-input-1-54c315b2eec1>\"\u001b[1;36m, line \u001b[1;32m17\u001b[0m\n\u001b[1;33m    break\u001b[0m\n\u001b[1;37m    ^\u001b[0m\n\u001b[1;31mSyntaxError\u001b[0m\u001b[1;31m:\u001b[0m 'break' outside loop\n"
     ]
    }
   ],
   "source": [
    "import cv2\n",
    "\n",
    "img_path = './image/lena.png'\n",
    "\n",
    "# 載入包含 Blue, Green, Red 三個 channel 的彩色圖片\n",
    "img_color = cv2.imread(img_path, cv2.IMREAD_COLOR)\n",
    "\n",
    "#載入灰階格式的圖片\n",
    "img_gray = cv2.imread(img_path, cv2.IMREAD_GRAYSCALE)\n",
    "\n",
    "\n",
    "cv2.imshow('bgr', img_color)\n",
    "cv2.imshow('gray', img_gray)\n",
    "cv2.waitKey(0)\n",
    "if k == 27:\n",
    "        cv2.destroyAllWindows()\n",
    "        break"
   ]
  },
  {
   "cell_type": "code",
   "execution_count": null,
   "metadata": {},
   "outputs": [],
   "source": []
  }
 ],
 "metadata": {
  "kernelspec": {
   "display_name": "Python 3",
   "language": "python",
   "name": "python3"
  },
  "language_info": {
   "codemirror_mode": {
    "name": "ipython",
    "version": 3
   },
   "file_extension": ".py",
   "mimetype": "text/x-python",
   "name": "python",
   "nbconvert_exporter": "python",
   "pygments_lexer": "ipython3",
   "version": "3.8.1"
  }
 },
 "nbformat": 4,
 "nbformat_minor": 4
}
