{
 "cells": [
  {
   "cell_type": "markdown",
   "metadata": {},
   "source": [
    "# 作業\n",
    "\n",
    "使用 [Lena](http://optipng.sourceforge.net/pngtech/img/lena.png)\n",
    "\n",
    "- 改變圖片的 color space (`HLS`, `LAB`) 並呈現\n",
    "\n",
    "OpenCV 在顯示圖片的時候都還是以 BGR 的方式呈現，但我們可以觀察圖片轉換到其他 color space 後，透過 BGR 呈現會有甚麼差異。 \n",
    "\n",
    "▪參考上一節顯示圖片的程式碼顯示不同 color space 的圖片\n",
    "\n",
    "▪包含 RGB, HSV, HLS, LAB"
   ]
  },
  {
   "cell_type": "code",
   "execution_count": 2,
   "metadata": {},
   "outputs": [],
   "source": [
    "import cv2\n",
    "\n",
    "img_path = './image/lena.png'\n",
    "\n",
    "# 載入包含 Blue, Green, Red 三個 channel 的彩色圖片\n",
    "img_color = cv2.imread(img_path, cv2.IMREAD_COLOR)\n",
    "\n",
    "# RGB\n",
    "img_RGB = cv2.cvtColor(img_color, cv2.COLOR_RGB2RGBA)\n",
    "\n",
    "# HSV\n",
    "img_hsv = cv2.cvtColor(img_color, cv2.COLOR_BGR2HSV)\n",
    "\n",
    "# HSL\n",
    "img_HLS = cv2.cvtColor(img_color, cv2.COLOR_BGR2HLS)\n",
    "\n",
    "# LAB\n",
    "img_LAB = cv2.cvtColor(img_color, cv2.COLOR_BGR2LAB)\n",
    "\n",
    "\n",
    "while True:\n",
    "    cv2.imshow('BGR', img_color)\n",
    "    cv2.imshow('RGB', img_RGB)\n",
    "    cv2.imshow('HSV', img_hsv)\n",
    "    cv2.imshow('HLS', img_HLS)\n",
    "    cv2.imshow('LAB', img_LAB)\n",
    "\n",
    "    # 直到按下 ESC 鍵才會自動關閉視窗結束程式\n",
    "    k = cv2.waitKey(0)\n",
    "    if k == 27:\n",
    "        cv2.destroyAllWindows()\n",
    "        break"
   ]
  },
  {
   "cell_type": "code",
   "execution_count": null,
   "metadata": {},
   "outputs": [],
   "source": []
  }
 ],
 "metadata": {
  "kernelspec": {
   "display_name": "Python 3",
   "language": "python",
   "name": "python3"
  },
  "language_info": {
   "codemirror_mode": {
    "name": "ipython",
    "version": 3
   },
   "file_extension": ".py",
   "mimetype": "text/x-python",
   "name": "python",
   "nbconvert_exporter": "python",
   "pygments_lexer": "ipython3",
   "version": "3.8.1"
  }
 },
 "nbformat": 4,
 "nbformat_minor": 4
}
